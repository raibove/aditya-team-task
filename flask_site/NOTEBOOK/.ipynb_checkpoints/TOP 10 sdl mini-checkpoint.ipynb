{
 "cells": [
  {
   "cell_type": "code",
   "execution_count": 1,
   "metadata": {
    "scrolled": true
   },
   "outputs": [
    {
     "ename": "FileNotFoundError",
     "evalue": "[Errno 2] No such file or directory: 'annual-number-of-deaths-by-cause.csv'",
     "output_type": "error",
     "traceback": [
      "\u001b[1;31m---------------------------------------------------------------------------\u001b[0m",
      "\u001b[1;31mFileNotFoundError\u001b[0m                         Traceback (most recent call last)",
      "\u001b[1;32m<ipython-input-1-788fabf73050>\u001b[0m in \u001b[0;36m<module>\u001b[1;34m\u001b[0m\n\u001b[0;32m     11\u001b[0m \u001b[1;33m\u001b[0m\u001b[0m\n\u001b[0;32m     12\u001b[0m \u001b[1;33m\u001b[0m\u001b[0m\n\u001b[1;32m---> 13\u001b[1;33m \u001b[0mmydata\u001b[0m \u001b[1;33m=\u001b[0m \u001b[0mpd\u001b[0m\u001b[1;33m.\u001b[0m\u001b[0mread_csv\u001b[0m\u001b[1;33m(\u001b[0m\u001b[1;34m\"annual-number-of-deaths-by-cause.csv\"\u001b[0m\u001b[1;33m)\u001b[0m\u001b[1;33m\u001b[0m\u001b[1;33m\u001b[0m\u001b[0m\n\u001b[0m\u001b[0;32m     14\u001b[0m \u001b[0mmydata\u001b[0m \u001b[1;33m=\u001b[0m \u001b[0mpd\u001b[0m\u001b[1;33m.\u001b[0m\u001b[0mDataFrame\u001b[0m\u001b[1;33m(\u001b[0m\u001b[0mmydata\u001b[0m\u001b[1;33m)\u001b[0m\u001b[1;33m\u001b[0m\u001b[1;33m\u001b[0m\u001b[0m\n\u001b[0;32m     15\u001b[0m \u001b[0mRoad_injuries\u001b[0m \u001b[1;33m=\u001b[0m \u001b[0mmydata\u001b[0m\u001b[1;33m[\u001b[0m\u001b[1;34m'Deaths - Road injuries - Sex: Both - Age: All Ages (Number)'\u001b[0m\u001b[1;33m]\u001b[0m\u001b[1;33m.\u001b[0m\u001b[0msum\u001b[0m\u001b[1;33m(\u001b[0m\u001b[1;33m)\u001b[0m\u001b[1;33m\u001b[0m\u001b[1;33m\u001b[0m\u001b[0m\n",
      "\u001b[1;32mG:\\anaconda\\lib\\site-packages\\pandas\\io\\parsers.py\u001b[0m in \u001b[0;36mread_csv\u001b[1;34m(filepath_or_buffer, sep, delimiter, header, names, index_col, usecols, squeeze, prefix, mangle_dupe_cols, dtype, engine, converters, true_values, false_values, skipinitialspace, skiprows, skipfooter, nrows, na_values, keep_default_na, na_filter, verbose, skip_blank_lines, parse_dates, infer_datetime_format, keep_date_col, date_parser, dayfirst, cache_dates, iterator, chunksize, compression, thousands, decimal, lineterminator, quotechar, quoting, doublequote, escapechar, comment, encoding, dialect, error_bad_lines, warn_bad_lines, delim_whitespace, low_memory, memory_map, float_precision)\u001b[0m\n\u001b[0;32m    686\u001b[0m     )\n\u001b[0;32m    687\u001b[0m \u001b[1;33m\u001b[0m\u001b[0m\n\u001b[1;32m--> 688\u001b[1;33m     \u001b[1;32mreturn\u001b[0m \u001b[0m_read\u001b[0m\u001b[1;33m(\u001b[0m\u001b[0mfilepath_or_buffer\u001b[0m\u001b[1;33m,\u001b[0m \u001b[0mkwds\u001b[0m\u001b[1;33m)\u001b[0m\u001b[1;33m\u001b[0m\u001b[1;33m\u001b[0m\u001b[0m\n\u001b[0m\u001b[0;32m    689\u001b[0m \u001b[1;33m\u001b[0m\u001b[0m\n\u001b[0;32m    690\u001b[0m \u001b[1;33m\u001b[0m\u001b[0m\n",
      "\u001b[1;32mG:\\anaconda\\lib\\site-packages\\pandas\\io\\parsers.py\u001b[0m in \u001b[0;36m_read\u001b[1;34m(filepath_or_buffer, kwds)\u001b[0m\n\u001b[0;32m    452\u001b[0m \u001b[1;33m\u001b[0m\u001b[0m\n\u001b[0;32m    453\u001b[0m     \u001b[1;31m# Create the parser.\u001b[0m\u001b[1;33m\u001b[0m\u001b[1;33m\u001b[0m\u001b[1;33m\u001b[0m\u001b[0m\n\u001b[1;32m--> 454\u001b[1;33m     \u001b[0mparser\u001b[0m \u001b[1;33m=\u001b[0m \u001b[0mTextFileReader\u001b[0m\u001b[1;33m(\u001b[0m\u001b[0mfp_or_buf\u001b[0m\u001b[1;33m,\u001b[0m \u001b[1;33m**\u001b[0m\u001b[0mkwds\u001b[0m\u001b[1;33m)\u001b[0m\u001b[1;33m\u001b[0m\u001b[1;33m\u001b[0m\u001b[0m\n\u001b[0m\u001b[0;32m    455\u001b[0m \u001b[1;33m\u001b[0m\u001b[0m\n\u001b[0;32m    456\u001b[0m     \u001b[1;32mif\u001b[0m \u001b[0mchunksize\u001b[0m \u001b[1;32mor\u001b[0m \u001b[0miterator\u001b[0m\u001b[1;33m:\u001b[0m\u001b[1;33m\u001b[0m\u001b[1;33m\u001b[0m\u001b[0m\n",
      "\u001b[1;32mG:\\anaconda\\lib\\site-packages\\pandas\\io\\parsers.py\u001b[0m in \u001b[0;36m__init__\u001b[1;34m(self, f, engine, **kwds)\u001b[0m\n\u001b[0;32m    946\u001b[0m             \u001b[0mself\u001b[0m\u001b[1;33m.\u001b[0m\u001b[0moptions\u001b[0m\u001b[1;33m[\u001b[0m\u001b[1;34m\"has_index_names\"\u001b[0m\u001b[1;33m]\u001b[0m \u001b[1;33m=\u001b[0m \u001b[0mkwds\u001b[0m\u001b[1;33m[\u001b[0m\u001b[1;34m\"has_index_names\"\u001b[0m\u001b[1;33m]\u001b[0m\u001b[1;33m\u001b[0m\u001b[1;33m\u001b[0m\u001b[0m\n\u001b[0;32m    947\u001b[0m \u001b[1;33m\u001b[0m\u001b[0m\n\u001b[1;32m--> 948\u001b[1;33m         \u001b[0mself\u001b[0m\u001b[1;33m.\u001b[0m\u001b[0m_make_engine\u001b[0m\u001b[1;33m(\u001b[0m\u001b[0mself\u001b[0m\u001b[1;33m.\u001b[0m\u001b[0mengine\u001b[0m\u001b[1;33m)\u001b[0m\u001b[1;33m\u001b[0m\u001b[1;33m\u001b[0m\u001b[0m\n\u001b[0m\u001b[0;32m    949\u001b[0m \u001b[1;33m\u001b[0m\u001b[0m\n\u001b[0;32m    950\u001b[0m     \u001b[1;32mdef\u001b[0m \u001b[0mclose\u001b[0m\u001b[1;33m(\u001b[0m\u001b[0mself\u001b[0m\u001b[1;33m)\u001b[0m\u001b[1;33m:\u001b[0m\u001b[1;33m\u001b[0m\u001b[1;33m\u001b[0m\u001b[0m\n",
      "\u001b[1;32mG:\\anaconda\\lib\\site-packages\\pandas\\io\\parsers.py\u001b[0m in \u001b[0;36m_make_engine\u001b[1;34m(self, engine)\u001b[0m\n\u001b[0;32m   1178\u001b[0m     \u001b[1;32mdef\u001b[0m \u001b[0m_make_engine\u001b[0m\u001b[1;33m(\u001b[0m\u001b[0mself\u001b[0m\u001b[1;33m,\u001b[0m \u001b[0mengine\u001b[0m\u001b[1;33m=\u001b[0m\u001b[1;34m\"c\"\u001b[0m\u001b[1;33m)\u001b[0m\u001b[1;33m:\u001b[0m\u001b[1;33m\u001b[0m\u001b[1;33m\u001b[0m\u001b[0m\n\u001b[0;32m   1179\u001b[0m         \u001b[1;32mif\u001b[0m \u001b[0mengine\u001b[0m \u001b[1;33m==\u001b[0m \u001b[1;34m\"c\"\u001b[0m\u001b[1;33m:\u001b[0m\u001b[1;33m\u001b[0m\u001b[1;33m\u001b[0m\u001b[0m\n\u001b[1;32m-> 1180\u001b[1;33m             \u001b[0mself\u001b[0m\u001b[1;33m.\u001b[0m\u001b[0m_engine\u001b[0m \u001b[1;33m=\u001b[0m \u001b[0mCParserWrapper\u001b[0m\u001b[1;33m(\u001b[0m\u001b[0mself\u001b[0m\u001b[1;33m.\u001b[0m\u001b[0mf\u001b[0m\u001b[1;33m,\u001b[0m \u001b[1;33m**\u001b[0m\u001b[0mself\u001b[0m\u001b[1;33m.\u001b[0m\u001b[0moptions\u001b[0m\u001b[1;33m)\u001b[0m\u001b[1;33m\u001b[0m\u001b[1;33m\u001b[0m\u001b[0m\n\u001b[0m\u001b[0;32m   1181\u001b[0m         \u001b[1;32melse\u001b[0m\u001b[1;33m:\u001b[0m\u001b[1;33m\u001b[0m\u001b[1;33m\u001b[0m\u001b[0m\n\u001b[0;32m   1182\u001b[0m             \u001b[1;32mif\u001b[0m \u001b[0mengine\u001b[0m \u001b[1;33m==\u001b[0m \u001b[1;34m\"python\"\u001b[0m\u001b[1;33m:\u001b[0m\u001b[1;33m\u001b[0m\u001b[1;33m\u001b[0m\u001b[0m\n",
      "\u001b[1;32mG:\\anaconda\\lib\\site-packages\\pandas\\io\\parsers.py\u001b[0m in \u001b[0;36m__init__\u001b[1;34m(self, src, **kwds)\u001b[0m\n\u001b[0;32m   2008\u001b[0m         \u001b[0mkwds\u001b[0m\u001b[1;33m[\u001b[0m\u001b[1;34m\"usecols\"\u001b[0m\u001b[1;33m]\u001b[0m \u001b[1;33m=\u001b[0m \u001b[0mself\u001b[0m\u001b[1;33m.\u001b[0m\u001b[0musecols\u001b[0m\u001b[1;33m\u001b[0m\u001b[1;33m\u001b[0m\u001b[0m\n\u001b[0;32m   2009\u001b[0m \u001b[1;33m\u001b[0m\u001b[0m\n\u001b[1;32m-> 2010\u001b[1;33m         \u001b[0mself\u001b[0m\u001b[1;33m.\u001b[0m\u001b[0m_reader\u001b[0m \u001b[1;33m=\u001b[0m \u001b[0mparsers\u001b[0m\u001b[1;33m.\u001b[0m\u001b[0mTextReader\u001b[0m\u001b[1;33m(\u001b[0m\u001b[0msrc\u001b[0m\u001b[1;33m,\u001b[0m \u001b[1;33m**\u001b[0m\u001b[0mkwds\u001b[0m\u001b[1;33m)\u001b[0m\u001b[1;33m\u001b[0m\u001b[1;33m\u001b[0m\u001b[0m\n\u001b[0m\u001b[0;32m   2011\u001b[0m         \u001b[0mself\u001b[0m\u001b[1;33m.\u001b[0m\u001b[0munnamed_cols\u001b[0m \u001b[1;33m=\u001b[0m \u001b[0mself\u001b[0m\u001b[1;33m.\u001b[0m\u001b[0m_reader\u001b[0m\u001b[1;33m.\u001b[0m\u001b[0munnamed_cols\u001b[0m\u001b[1;33m\u001b[0m\u001b[1;33m\u001b[0m\u001b[0m\n\u001b[0;32m   2012\u001b[0m \u001b[1;33m\u001b[0m\u001b[0m\n",
      "\u001b[1;32mpandas\\_libs\\parsers.pyx\u001b[0m in \u001b[0;36mpandas._libs.parsers.TextReader.__cinit__\u001b[1;34m()\u001b[0m\n",
      "\u001b[1;32mpandas\\_libs\\parsers.pyx\u001b[0m in \u001b[0;36mpandas._libs.parsers.TextReader._setup_parser_source\u001b[1;34m()\u001b[0m\n",
      "\u001b[1;31mFileNotFoundError\u001b[0m: [Errno 2] No such file or directory: 'annual-number-of-deaths-by-cause.csv'"
     ]
    },
    {
     "data": {
      "image/png": "[encoded data removed]",
      "text/plain": [
       "<Figure size 640x480 with 1 Axes>"
      ]
     },
     "metadata": {},
     "output_type": "display_data"
    }
   ],
   "source": [
    "import numpy as np\n",
    "import pandas as pd\n",
    "from pandas import Series, DataFrame\n",
    "import matplotlib.pyplot as plt\n",
    "\n",
    "np.random.seed(19680801)\n",
    "\n",
    "plt.rcdefaults()\n",
    "fig, ax = plt.subplots()\n",
    "\n",
    "\n",
    "\n",
    "mydata = pd.read_csv(\"annual-number-of-deaths-by-cause.csv\")\n",
    "mydata = pd.DataFrame(mydata)\n",
    "Road_injuries = mydata['Deaths - Road injuries - Sex: Both - Age: All Ages (Number)'].sum()\n",
    "Liver_diseases = mydata['Deaths - Cirrhosis and other chronic liver diseases - Sex: Both - Age: All Ages (Number)'].sum()\n",
    "Digestive_diseases = mydata['Deaths - Digestive diseases - Sex: Both - Age: All Ages (Number)'].sum\n",
    "Tuberculosis = mydata['Deaths - Tuberculosis - Sex: Both - Age: All Ages (Number)'].sum()\n",
    "HIV_AIDS = mydata['Deaths - HIV/AIDS - Sex: Both - Age: All Ages (Number)'].sum()\n",
    "Diarrheal_diseases = mydata['Deaths - Diarrheal diseases - Sex: Both - Age: All Ages (Number)'].sum()\n",
    "Intestinal_infectious_diseases = mydata['Deaths - Intestinal infectious diseases - Sex: Both - Age: All Ages (Number)'].sum()\n",
    "Lower_respiratory_infection = mydata['Deaths - Lower respiratory infections - Sex: Both - Age: All Ages (Number)'].sum()\n",
    "Meningitis = mydata['Deaths - Meningitis - Sex: Both - Age: All Ages (Number)'].sum()\n",
    "Drowning = mydata['Deaths - Drowning - Sex: Both - Age: All Ages (Number)'].sum()\n",
    "Parkinson_diseases = mydata['Deaths - Parkinson disease - Sex: Both - Age: All Ages (Number)'].sum()\n",
    "Alcohol_use_disorders = mydata['Deaths - Alcohol use disorders - Sex: Both - Age: All Ages (Number)'].sum()\n",
    "Drug_use_disorders = mydata['Deaths - Drug use disorders - Sex: Both - Age: All Ages (Number)'].sum()\n",
    "Malaria = mydata['Deaths - Malaria - Sex: Both - Age: All Ages (Number)'].sum()\n",
    "Maternal_disorders = mydata['Deaths - Maternal disorders - Sex: Both - Age: All Ages (Number)'].sum()\n",
    "Neonatal_disorders = mydata['Deaths - Neonatal disorders - Sex: Both - Age: All Ages (Number)'].sum()\n",
    "Nutritional_deficiencies = mydata['Deaths - Nutritional deficiencies - Sex: Both - Age: All Ages (Number)'].sum()\n",
    "Diabetes = mydata['Deaths - Diabetes mellitus - Sex: Both - Age: All Ages (Number)'].sum()\n",
    "Kidney_diseases = mydata['Deaths - Chronic kidney disease - Sex: Both - Age: All Ages (Number)'].sum()\n",
    "Respiratory_diseases = mydata['Deaths - Chronic respiratory diseases - Sex: Both - Age: All Ages (Number)'].sum()\n",
    "Conflicts = mydata['Deaths - Conflict and terrorism - Sex: Both - Age: All Ages (Number)'].sum()\n",
    "Hepatitis = mydata['Deaths - Hepatitis - Sex: Both - Age: All Ages (Number)'].sum()\n",
    "Fire = mydata['Deaths - Fire, heat, and hot substances - Sex: Both - Age: All Ages (Number)'].sum()\n",
    "Poisonings = mydata['Deaths - Poisonings - Sex: Both - Age: All Ages (Number)'].sum()\n",
    "Natural_diasters = mydata['Deaths - Exposure to forces of nature - Sex: Both - Age: All Ages (Number)'].sum()\n",
    "Heat_hot_cold_expo = mydata['Deaths - Environmental heat and cold exposure - Sex: Both - Age: All Ages (Number)'].sum()\n",
    "Protein_malnutritions = mydata['Deaths - Protein-energy malnutrition - Sex: Both - Age: All Ages (Number)'].sum()\n",
    "Cardiovascular_diseases = mydata['Deaths - Cardiovascular diseases - Sex: Both - Age: All Ages (Number)'].sum()\n",
    "Self_harm = mydata['Deaths - Self-harm - Sex: Both - Age: All Ages (Number)'].sum()\n",
    "Interpersonal_violance = mydata['Deaths - Interpersonal violence - Sex: Both - Age: All Ages (Number)'].sum()\n",
    "Terrorism = mydata['Terrorism (deaths)'].sum()\n",
    "Suicide = Self_harm + Interpersonal_violance\n",
    "\n",
    "\n",
    "causes = ('Road_injuries','Liver_diseases','Digestive_diseases','Tuberculosis','HIV_AIDS','Diarrheal_diseases','Intestinal_infectious_diseases','Lower_respiratory_infection','Meningitis','Drowning','Parkinson_diseases','Alcohol_use_disorders','Drug_use_disorders','Malaria','Maternal_disorders','Neonatal_disorders','Nutritional_deficiencies','Diabetes','Kidney_diseases','Respiratory_diseases','Conflicts','Hepatitis','Fire','Poisonings','Natural_diasters','Heat_hot_cold_expo','Protein_malnutritions','Cardiovascular_diseases','Terrorism','Suicide')\n",
    "y_pos = np.arange(len(causes))\n",
    "x_pos = np.random.rand(len(causes))\n",
    "error = np.random.rand(len(causes))\n",
    "\n",
    "\n",
    "ax.barh(y_pos, x_pos)\n",
    "ax.set_yticks(y_pos)\n",
    "ax.set_yticklabels(causes)\n",
    "plt.savefig('Death_reasons')\n",
    "plt.show()\n",
    "\n"
   ]
  },
  {
   "cell_type": "code",
   "execution_count": null,
   "metadata": {},
   "outputs": [],
   "source": [
    "import numpy as np\n",
    "import pandas as pd\n",
    "from pandas import Series, DataFrame\n",
    "import matplotlib.pyplot as plt\n",
    "import plotly.offline as py\n",
    "import plotly.express as px\n",
    "import plotly.io as pio\n",
    "\n",
    "data=pd.read_csv('who_suicide_statistics.csv')\n",
    "\n",
    "print(data)\n",
    "\n"
   ]
  },
  {
   "cell_type": "code",
   "execution_count": null,
   "metadata": {},
   "outputs": [],
   "source": [
    "pip install psutil"
   ]
  },
  {
   "cell_type": "code",
   "execution_count": null,
   "metadata": {
    "scrolled": true
   },
   "outputs": [],
   "source": [
    "conda install -c plotly plotly-orca psutil"
   ]
  },
  {
   "cell_type": "code",
   "execution_count": null,
   "metadata": {},
   "outputs": [],
   "source": [
    "import numpy as np\n",
    "import pandas as pd\n",
    "from pandas import Series, DataFrame\n",
    "import matplotlib.pyplot as plt\n",
    "import plotly.offline as py\n",
    "import plotly.express as px\n",
    "import plotly.io as pio\n",
    "\n",
    "df = pd.read_csv(\"totrow.csv\")\n",
    "dh = df[['Total','State_UT_City']].head(10)\n",
    "fig = px.pie(dh, values='Total', names='State_UT_City', title='10 Reasons of Suicide')\n",
    "pio.write_image(fig,'10_Reasons.jpeg')\n",
    "fig.show()\n",
    "\n"
   ]
  },
  {
   "cell_type": "code",
   "execution_count": null,
   "metadata": {},
   "outputs": [],
   "source": []
  },
  {
   "cell_type": "code",
   "execution_count": null,
   "metadata": {
    "scrolled": true
   },
   "outputs": [],
   "source": [
    "import numpy as np\n",
    "import pandas as pd\n",
    "import matplotlib.pyplot as plt\n",
    "import plotly as py\n",
    "import plotly.express as px\n",
    "import plotly.io as pio\n",
    "\n",
    "data = pd.read_csv(\"who_suicide_statistics.csv\")\n",
    "#data.head()\n",
    "#data.info()\n",
    "\n",
    "data.rename({'sex':'gender' , 'suicides_no':'suicides'} , inplace = True , axis = 1)\n",
    "\n",
    "check = data[['country' , 'suicides']].groupby(['country']).agg('sum').reset_index().sort_values('suicides' , ascending = False).head(10)\n",
    "fig = px.bar(\n",
    "    check,\n",
    "    x = 'country',\n",
    "    y = 'suicides',\n",
    "    color = 'suicides',\n",
    "    height = 500,\n",
    "    width  = 500,\n",
    "    title = 'Top 10 countries by number of Suicides',\n",
    "    \n",
    "\n",
    "\n",
    ")\n",
    "pio.write_image(fig,'10_countries.png')\n",
    "fig.show()\n"
   ]
  },
  {
   "cell_type": "code",
   "execution_count": null,
   "metadata": {
    "scrolled": true
   },
   "outputs": [],
   "source": [
    "import seaborn as sns\n",
    "import matplotlib\n",
    "import matplotlib.pyplot as plt\n",
    "%matplotlib inline\n",
    "import numpy as np\n",
    "import pandas as pd\n",
    "\n",
    "data=pd.read_csv('who_suicide_statistics.csv')\n",
    "\n",
    "sns.set_style('darkgrid')\n",
    "matplotlib.rcParams['font.size'] = 14\n",
    "matplotlib.rcParams['figure.figsize'] = (9, 5)\n",
    "matplotlib.rcParams['figure.facecolor'] = '#00000000'\n",
    "sns.set_style(\"whitegrid\")\n",
    "\n",
    "country_df = data.groupby('year')[['suicides_no','sex']].sum()\n",
    "\n",
    "plt.plot('suicides_no','o--r',data=country_df)\n",
    "plt.ylabel('Suicide rate')\n",
    "plt.xlabel('Year')\n",
    "plt.title(\"Total Suicides each year\")\n",
    "\n",
    "plt.savefig('Total_Suicides_each_year')"
   ]
  },
  {
   "cell_type": "code",
   "execution_count": null,
   "metadata": {},
   "outputs": [],
   "source": [
    "import seaborn as sns\n",
    "import matplotlib\n",
    "import matplotlib.pyplot as plt\n",
    "%matplotlib inline\n",
    "import numpy as np\n",
    "import pandas as pd\n",
    "\n",
    "data=pd.read_csv('who_suicide_statistics.csv')\n",
    "\n",
    "sns.stripplot(x='sex', y='suicides_no', data=data, jitter=True, edgecolor='none', alpha=.40)\n",
    "sns.despine()\n",
    "plt.savefig('sex.png')"
   ]
  },
  {
   "cell_type": "code",
   "execution_count": null,
   "metadata": {},
   "outputs": [],
   "source": [
    "import seaborn as sns\n",
    "import matplotlib\n",
    "import matplotlib.pyplot as plt\n",
    "%matplotlib inline\n",
    "import numpy as np\n",
    "import pandas as pd\n",
    "\n",
    "data=pd.read_csv('who_suicide_statistics.csv')\n",
    "\n",
    "plt.figure(figsize=(15,5))\n",
    "sns.stripplot(x='age',y='suicides_no',data=data,hue='sex',dodge=True,jitter=True,edgecolor='none', size=8.5,alpha=0.25)\n",
    "plt.savefig('years_age.png')"
   ]
  },
  {
   "cell_type": "code",
   "execution_count": null,
   "metadata": {},
   "outputs": [],
   "source": [
    "import seaborn as sns\n",
    "import matplotlib\n",
    "import matplotlib.pyplot as plt\n",
    "%matplotlib inline\n",
    "import numpy as np\n",
    "import pandas as pd\n",
    "\n",
    "data=pd.read_csv('who_suicide_statistics.csv')\n",
    "\n",
    "plt.figure(figsize=(10,8))\n",
    "res = data.loc[data['country'] == \"Albania\"]\n",
    "sns.scatterplot('year','suicides_no',hue=\"age\",data=res)\n",
    "plt.savefig('age.png')"
   ]
  }
 ],
 "metadata": {
  "kernelspec": {
   "display_name": "Python 3",
   "language": "python",
   "name": "python3"
  },
  "language_info": {
   "codemirror_mode": {
    "name": "ipython",
    "version": 3
   },
   "file_extension": ".py",
   "mimetype": "text/x-python",
   "name": "python",
   "nbconvert_exporter": "python",
   "pygments_lexer": "ipython3",
   "version": "3.7.4"
  }
 },
 "nbformat": 4,
 "nbformat_minor": 4
}
